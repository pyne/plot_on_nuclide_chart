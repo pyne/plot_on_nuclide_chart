{
 "cells": [
  {
   "cell_type": "code",
   "execution_count": 1,
   "id": "b2af8e62",
   "metadata": {
    "scrolled": true
   },
   "outputs": [],
   "source": [
    "import matplotlib.pyplot as plt\n",
    "import nuclide_chart_plot as ncp\n",
    "import numpy as np\n",
    "import ipywidgets as widgets\n",
    "from pyne.material import Material\n",
    "from pyne import nucname\n",
    "all_nuclide_list = ncp.get_nuclide_list()\n",
    "u_enrich = Material({92235:0.05, 92238:0.95})\n",
    "%matplotlib inline"
   ]
  },
  {
   "cell_type": "code",
   "execution_count": 2,
   "id": "42e4f2f7",
   "metadata": {
    "scrolled": true
   },
   "outputs": [],
   "source": [
    "mox_data = {}\n",
    "fuel_types = 6 # simpler than detecting empty columns in table\n",
    "\n",
    "# manual parsing of CSV to avoid learning how to get the headers & conversions right\n",
    "with open('mox.csv') as mox_data_file:\n",
    "    mox_data_file.readline()\n",
    "    fuels = mox_data_file.readline().strip().split(',')[1:fuel_types*2+1]\n",
    "    for fuel in fuels:\n",
    "        mox_data[fuel] = {}\n",
    "    for line in mox_data_file.readlines():\n",
    "        tokens = line.split(',')\n",
    "        try:\n",
    "            nuclide = nucname.id(tokens[0])\n",
    "            for fuel, comp in zip(fuels, [float(x) for x in tokens[1:fuel_types*2+1]]):\n",
    "                mox_data[fuel][nuclide] = comp\n",
    "        except:\n",
    "            # skip rows that don't represent specific nuclides\n",
    "            #print(f\"skipping {tokens[0]}\")\n",
    "            pass\n",
    "\n",
    "mox_materials = { fuel: Material(comp) for fuel, comp in mox_data.items()}"
   ]
  },
  {
   "cell_type": "code",
   "execution_count": 3,
   "id": "e00f3380",
   "metadata": {
    "scrolled": true
   },
   "outputs": [],
   "source": [
    "def interact_plot(material, decay_time, response):\n",
    "    seconds_per_year = 365.25*24*60*60\n",
    "    ncp.nuclide_chart_plot(material, all_nuclide_list, decay_time=decay_time*seconds_per_year, response=response)\n",
    "    \n",
    "style = {'description_width': 'initial'}\n",
    "decay_time_slider = widgets.FloatLogSlider(value=-3, base=10, min=-3, max=8, step=0.2, description=\"Decay Time [years]\", style=style)\n",
    "response_choice = widgets.Dropdown(options=[\"inventory\", \"decay_heat\", \"dose\"], description=\"Response to Plot\", value=\"inventory\", style=style)\n",
    "material_choice = widgets.Dropdown(options=mox_materials, description=\"Material to plot\", style=style)"
   ]
  },
  {
   "cell_type": "code",
   "execution_count": 4,
   "id": "8c6835ce",
   "metadata": {
    "scrolled": false
   },
   "outputs": [
    {
     "data": {
      "application/vnd.jupyter.widget-view+json": {
       "model_id": "ad5ea7aec9af4103938e4a6dd0ff4991",
       "version_major": 2,
       "version_minor": 0
      },
      "text/plain": [
       "interactive(children=(Dropdown(description='Material to plot', options={'MOX-PN fresh': pyne.material.Material…"
      ]
     },
     "metadata": {},
     "output_type": "display_data"
    },
    {
     "data": {
      "text/plain": [
       "<function __main__.interact_plot(material, decay_time, response)>"
      ]
     },
     "execution_count": 4,
     "metadata": {},
     "output_type": "execute_result"
    }
   ],
   "source": [
    "widgets.interact(interact_plot, material=material_choice, decay_time=decay_time_slider, response=response_choice)"
   ]
  },
  {
   "cell_type": "code",
   "execution_count": null,
   "id": "773a0f55",
   "metadata": {
    "scrolled": true
   },
   "outputs": [],
   "source": []
  }
 ],
 "metadata": {
  "kernelspec": {
   "display_name": "Python 3 (ipykernel)",
   "language": "python",
   "name": "python3"
  },
  "language_info": {
   "codemirror_mode": {
    "name": "ipython",
    "version": 3
   },
   "file_extension": ".py",
   "mimetype": "text/x-python",
   "name": "python",
   "nbconvert_exporter": "python",
   "pygments_lexer": "ipython3",
   "version": "3.10.12"
  }
 },
 "nbformat": 4,
 "nbformat_minor": 5
}
