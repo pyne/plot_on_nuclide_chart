{
 "cells": [
  {
   "cell_type": "code",
   "execution_count": 12,
   "id": "b2af8e62",
   "metadata": {},
   "outputs": [],
   "source": [
    "import matplotlib.pyplot as plt\n",
    "import nuclide_chart_plot as ncp\n",
    "import numpy as np\n",
    "import ipywidgets as widgets\n",
    "from pyne.material import Material\n",
    "all_nuclide_list = ncp.get_nuclide_list()\n",
    "u_enrich = Material({92235:0.05, 92238:0.95})\n",
    "%matplotlib inline"
   ]
  },
  {
   "cell_type": "code",
   "execution_count": 13,
   "id": "e00f3380",
   "metadata": {},
   "outputs": [],
   "source": [
    "def interact_plot(decay_time_exp, response):\n",
    "    u_enrich = Material({92235:0.05, 92238:0.95})\n",
    "    decay_time = np.power(10, decay_time_exp)\n",
    "    ncp.nuclide_chart_plot(u_enrich, all_nuclide_list, decay_time=decay_time, response=response)\n",
    "decay_time_slider = widgets.FloatSlider(min=0, max=20, step=1, value=1, description=\"Log10(Decay Time)\")\n",
    "response_choice = widgets.Dropdown(options=[\"inventory\", \"decay_heat\", \"dose\"], description=\"Response to Plot\", value=\"inventory\")"
   ]
  },
  {
   "cell_type": "code",
   "execution_count": 14,
   "id": "8c6835ce",
   "metadata": {
    "scrolled": true
   },
   "outputs": [
    {
     "data": {
      "application/vnd.jupyter.widget-view+json": {
       "model_id": "3b6659b485b74fa5ad405e658f7743ff",
       "version_major": 2,
       "version_minor": 0
      },
      "text/plain": [
       "interactive(children=(FloatSlider(value=1.0, description='Log10(Decay Time)', max=20.0, step=1.0), Dropdown(de…"
      ]
     },
     "metadata": {},
     "output_type": "display_data"
    },
    {
     "data": {
      "text/plain": [
       "<function __main__.interact_plot(decay_time_exp, response)>"
      ]
     },
     "execution_count": 14,
     "metadata": {},
     "output_type": "execute_result"
    }
   ],
   "source": [
    "widgets.interact(interact_plot, decay_time_exp=decay_time_slider, response=response_choice)"
   ]
  },
  {
   "cell_type": "code",
   "execution_count": null,
   "id": "773a0f55",
   "metadata": {},
   "outputs": [],
   "source": []
  }
 ],
 "metadata": {
  "kernelspec": {
   "display_name": "Python 3 (ipykernel)",
   "language": "python",
   "name": "python3"
  },
  "language_info": {
   "codemirror_mode": {
    "name": "ipython",
    "version": 3
   },
   "file_extension": ".py",
   "mimetype": "text/x-python",
   "name": "python",
   "nbconvert_exporter": "python",
   "pygments_lexer": "ipython3",
   "version": "3.10.12"
  }
 },
 "nbformat": 4,
 "nbformat_minor": 5
}
